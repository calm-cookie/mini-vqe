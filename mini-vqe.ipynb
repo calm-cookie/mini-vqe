{
 "cells": [
  {
   "cell_type": "markdown",
   "metadata": {},
   "source": [
    "# Mini Variational Quantum Eigensolver\n",
    "\n",
    "Hi, I am Uday Singla. This is my solution for [QIndia's Techni-Q Project 1](https://github.com/qIndia/Techni-Q/blob/main/Project%201.md)."
   ]
  },
  {
   "cell_type": "code",
   "execution_count": 1,
   "metadata": {},
   "outputs": [],
   "source": [
    "%matplotlib inline\n",
    "from qiskit import QuantumCircuit, Aer, execute\n",
    "import numpy as np"
   ]
  },
  {
   "cell_type": "markdown",
   "metadata": {},
   "source": [
    "### Prepare Hamiltonian\n",
    "\n",
    "$ H = Z \\otimes Z$"
   ]
  },
  {
   "cell_type": "code",
   "execution_count": 2,
   "metadata": {},
   "outputs": [],
   "source": [
    "def hamiltonian():\n",
    "    Z = np.array([\n",
    "        [1, 0],\n",
    "        [0, -1]\n",
    "    ])\n",
    "\n",
    "    H = np.kron(Z, Z)\n",
    "    return H"
   ]
  },
  {
   "cell_type": "markdown",
   "metadata": {},
   "source": [
    "### Prepare Ansatz"
   ]
  },
  {
   "cell_type": "code",
   "execution_count": 3,
   "metadata": {},
   "outputs": [],
   "source": [
    "def ansatz(qc, params):\n",
    "    if len(params) < 12:\n",
    "        raise Error(\"Number of parameters should be 12\")\n",
    "        \n",
    "    qc.u(params[0], params[1], params[2], 0)\n",
    "    qc.u(params[3], params[4], params[5], 1)\n",
    "    qc.cx(0, 1)\n",
    "    qc.u(params[6], params[7], params[8], 0)\n",
    "    qc.u(params[9], params[10], params[11], 1)\n",
    "    qc.cx(1, 0)\n",
    "    return qc"
   ]
  },
  {
   "cell_type": "markdown",
   "metadata": {},
   "source": [
    "### Initialize parameters for the ansatz"
   ]
  },
  {
   "cell_type": "code",
   "execution_count": 4,
   "metadata": {},
   "outputs": [],
   "source": [
    "pi = np.pi\n",
    "params = [\n",
    "    np.random.random() * 2 * pi for num in range(12)\n",
    "]"
   ]
  },
  {
   "cell_type": "markdown",
   "metadata": {},
   "source": [
    "### Draw the quantum circuit"
   ]
  },
  {
   "cell_type": "code",
   "execution_count": 5,
   "metadata": {},
   "outputs": [
    {
     "data": {
      "image/png": "[encoded data removed]",
      "text/plain": [
       "<Figure size 568.052x204.68 with 1 Axes>"
      ]
     },
     "execution_count": 5,
     "metadata": {},
     "output_type": "execute_result"
    }
   ],
   "source": [
    "qc = QuantumCircuit(2, 2)\n",
    "qc = ansatz(qc, params)\n",
    "qc.measure([0, 1], [0, 1])\n",
    "qc.draw(output='mpl')"
   ]
  },
  {
   "cell_type": "markdown",
   "metadata": {},
   "source": [
    "### Get the backend"
   ]
  },
  {
   "cell_type": "code",
   "execution_count": 6,
   "metadata": {},
   "outputs": [],
   "source": [
    "backend = Aer.get_backend(\"statevector_simulator\")\n",
    "H = hamiltonian()"
   ]
  },
  {
   "cell_type": "markdown",
   "metadata": {},
   "source": [
    "### Calculate expectation value for the arbitrarily constructed trial state "
   ]
  },
  {
   "cell_type": "code",
   "execution_count": 7,
   "metadata": {},
   "outputs": [],
   "source": [
    "N = 1000\n",
    "expectation = 0\n",
    "for _ in range(N):\n",
    "    job = execute(qc, backend)\n",
    "    psi = job.result().get_statevector().reshape((4, 1))\n",
    "    value = np.dot(psi.transpose().conjugate(), np.dot(H, psi)).item(0)\n",
    "    expectation = expectation + value / N"
   ]
  },
  {
   "cell_type": "code",
   "execution_count": 8,
   "metadata": {},
   "outputs": [
    {
     "name": "stdout",
     "output_type": "stream",
     "text": [
      "The expectation value of our Hamiltonian with respect to an arbitrarily constructed trial state is:  (0.3420000000000003+0j)\n"
     ]
    }
   ],
   "source": [
    "print(\"The expectation value of our Hamiltonian with respect to an arbitrarily constructed trial state is: \", expectation)"
   ]
  }
 ],
 "metadata": {
  "kernelspec": {
   "display_name": "Python 3",
   "language": "python",
   "name": "python3"
  },
  "language_info": {
   "codemirror_mode": {
    "name": "ipython",
    "version": 3
   },
   "file_extension": ".py",
   "mimetype": "text/x-python",
   "name": "python",
   "nbconvert_exporter": "python",
   "pygments_lexer": "ipython3",
   "version": "3.7.4"
  }
 },
 "nbformat": 4,
 "nbformat_minor": 2
}
